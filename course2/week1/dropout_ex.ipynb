{
 "cells": [
  {
   "cell_type": "code",
   "execution_count": 2,
   "metadata": {
    "collapsed": false
   },
   "outputs": [
    {
     "name": "stdout",
     "output_type": "stream",
     "text": [
      "[[False  True  True]\n",
      " [ True  True  True]]\n"
     ]
    }
   ],
   "source": [
    "import numpy as np\n",
    "d3 = np.random.rand(2,3)<0.8\n",
    "print d3"
   ]
  },
  {
   "cell_type": "code",
   "execution_count": 3,
   "metadata": {
    "collapsed": false
   },
   "outputs": [
    {
     "name": "stdout",
     "output_type": "stream",
     "text": [
      "[[ True  True False]\n",
      " [ True  True False]]\n"
     ]
    }
   ],
   "source": [
    "print d3"
   ]
  },
  {
   "cell_type": "code",
   "execution_count": 5,
   "metadata": {
    "collapsed": false,
    "scrolled": false
   },
   "outputs": [
    {
     "name": "stdout",
     "output_type": "stream",
     "text": [
      "[0 0 1 1 1 0 1 1 1 1]\n",
      "[  0.   0.   3.   4.   5.   0.   7.   8.   9.  10.]\n"
     ]
    },
    {
     "data": {
      "text/plain": [
       "array([  0.        ,   0.        ,   5.        ,   6.66666651,\n",
       "         8.33333302,   0.        ,  11.66666603,  13.33333302,\n",
       "        14.99999905,  16.66666603], dtype=float32)"
      ]
     },
     "execution_count": 5,
     "metadata": {},
     "output_type": "execute_result"
    }
   ],
   "source": [
    "#dropout函数的实现  \n",
    "def dropout(x, level):  \n",
    "    if level < 0. or level >= 1:#level是概率值，必须在0~1之间  \n",
    "        raise Exception('Dropout level must be in interval [0, 1[.')  \n",
    "    retain_prob = 1. - level  \n",
    "    #我们通过binomial函数，生成与x一样的维数向量。binomial函数就像抛硬币一样，我们可以把每个神经元当做抛硬币一样  \n",
    "    #硬币 正面的概率为p，n表示每个神经元试验的次数  \n",
    "    #因为我们每个神经元只需要抛一次就可以了所以n=1，size参数是我们有多少个硬币。  \n",
    "    sample=np.random.binomial(n=1,p=retain_prob,size=x.shape)#即将生成一个0、1分布的向量，0表示这个神经元被屏蔽，不工作了，也就是dropout了  \n",
    "    print sample  \n",
    "    x *=sample#0、1与x相乘，我们就可以屏蔽某些神经元，让它们的值变为0  \n",
    "    print x  \n",
    "    x /= retain_prob  \n",
    "  \n",
    "    return x  \n",
    "#对dropout的测试，大家可以跑一下上面的函数，了解一个输入x向量，经过dropout的结果  \n",
    "x=np.asarray([1,2,3,4,5,6,7,8,9,10],dtype=np.float32)  \n",
    "dropout(x,0.4)"
   ]
  }
 ],
 "metadata": {
  "anaconda-cloud": {},
  "kernelspec": {
   "display_name": "Python [conda root]",
   "language": "python",
   "name": "conda-root-py"
  },
  "language_info": {
   "codemirror_mode": {
    "name": "ipython",
    "version": 2
   },
   "file_extension": ".py",
   "mimetype": "text/x-python",
   "name": "python",
   "nbconvert_exporter": "python",
   "pygments_lexer": "ipython2",
   "version": "2.7.12"
  }
 },
 "nbformat": 4,
 "nbformat_minor": 1
}
